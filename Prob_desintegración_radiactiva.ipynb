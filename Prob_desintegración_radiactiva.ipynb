{
 "cells": [
  {
   "cell_type": "markdown",
   "metadata": {},
   "source": [
    "![\"San Marcos\"](SanMarcos_logo.png)"
   ]
  },
  {
   "cell_type": "markdown",
   "metadata": {},
   "source": [
    "#### *Facultad de Ciencias Físicas - Escuela Profesional de Física*"
   ]
  },
  {
   "cell_type": "markdown",
   "metadata": {},
   "source": [
    "# Física Nuclear: Problemas de desintegración radiactiva\n",
    "### Profesor: Mg. Alexander Jesus Cardenas Solano"
   ]
  },
  {
   "cell_type": "markdown",
   "metadata": {},
   "source": [
    "Solución implementada en Python por:  \n",
    "\n",
    "1) Onofre Tena, Jharol Jesús Saúl\n",
    "\n",
    "2) Quispe Mendizabal, Ricardo Angelo"
   ]
  },
  {
   "cell_type": "markdown",
   "metadata": {},
   "source": [
    "## Actividad 1"
   ]
  },
  {
   "cell_type": "markdown",
   "metadata": {},
   "source": [
    "Tenemos una población de 5.1020 núcleos radiactivos de Polonio 218. Se sabe que su constante desintegración es 0,0038 s-1. Averiguar:\n",
    "\n",
    "a) ¿Qué significado tiene el número 0,0038 s-1?\n",
    "\n",
    "b) ¿Cuántos núcleos de Polonio 218 quedarán al cabo de 1 día?\n",
    "\n",
    "c) ¿Cuánto tiempo debería pasar para que la población inicial se redujera a la mitad?\n",
    "\n",
    "d) Representar los núcleos de Polonio que quedan a lo largo del tiempo.\n",
    "\n",
    "e) ¿Cuánto tiempo debería pasar para que no quedase ningún átomo de Polonio 218?\n"
   ]
  },
  {
   "cell_type": "markdown",
   "metadata": {},
   "source": [
    "#### Solución:"
   ]
  },
  {
   "cell_type": "markdown",
   "metadata": {},
   "source": [
    "a) Es la constante de desintegración del Polonio 218, indica cuál es la relación entre el número de núcleos finales con respecto a los núcleos iniciales que se poseía en un determinado tiempo. Es decir, da la probabilidad de desintegración de un átomo por unidad de tiempo."
   ]
  },
  {
   "cell_type": "markdown",
   "metadata": {},
   "source": [
    "b)"
   ]
  },
  {
   "cell_type": "code",
   "execution_count": 1,
   "metadata": {},
   "outputs": [],
   "source": [
    "import numpy as np"
   ]
  },
  {
   "cell_type": "markdown",
   "metadata": {},
   "source": [
    "El número de núcleos de una sustancia radiactiva, en un determinado instante:"
   ]
  },
  {
   "cell_type": "markdown",
   "metadata": {},
   "source": [
    "$$N(t) = N_0 e^{-\\lambda t}$$"
   ]
  },
  {
   "cell_type": "code",
   "execution_count": 2,
   "metadata": {},
   "outputs": [],
   "source": [
    "def N_at(N0,λ,t):\n",
    "    return N0*np.e**(-λ*t)"
   ]
  },
  {
   "cell_type": "markdown",
   "metadata": {},
   "source": [
    "Despejando tiempo t de la ec. (1):"
   ]
  },
  {
   "cell_type": "markdown",
   "metadata": {},
   "source": [
    "$$t= \\frac{ln(N/N_0)}{-\\lambda}$$"
   ]
  },
  {
   "cell_type": "code",
   "execution_count": 3,
   "metadata": {},
   "outputs": [],
   "source": [
    "def t_ff(Nf,N0,λ):\n",
    "    return(np.log(Nf/N0)/(-λ))"
   ]
  },
  {
   "cell_type": "code",
   "execution_count": 4,
   "metadata": {},
   "outputs": [
    {
     "name": "stdout",
     "output_type": "stream",
     "text": [
      "Núcleos de Polonio 218 quedarán al cabo de 1 día: 1.318791550025354e-136\n"
     ]
    }
   ],
   "source": [
    "N0=5102e3 #núcleos\n",
    "λ=0.0038 #s-1\n",
    "t=24*3600 # dia*24h/dia * 3600s/h\n",
    "N_f=N_at(N0,λ,t) #Núcleos\n",
    "print('Núcleos de Polonio 218 quedarán al cabo de 1 día:', N_f)"
   ]
  },
  {
   "cell_type": "code",
   "execution_count": 5,
   "metadata": {},
   "outputs": [
    {
     "name": "stdout",
     "output_type": "stream",
     "text": [
      "Tiempo en que la población inicial se reduce a la mitad: 86400.0 s\n"
     ]
    }
   ],
   "source": [
    "t_ff(1.318791550025354e-136,N0,λ)#/(3600*24) #para volver a dia\n",
    "print('Tiempo en que la población inicial se reduce a la mitad:',t_ff(1.318791550025354e-136,N0,λ),'s')"
   ]
  },
  {
   "cell_type": "markdown",
   "metadata": {},
   "source": [
    "c)"
   ]
  },
  {
   "cell_type": "code",
   "execution_count": 6,
   "metadata": {},
   "outputs": [],
   "source": [
    "Nf=N0/2\n",
    "t_f1=t_ff(Nf,N0,λ)"
   ]
  },
  {
   "cell_type": "code",
   "execution_count": 7,
   "metadata": {},
   "outputs": [
    {
     "name": "stdout",
     "output_type": "stream",
     "text": [
      "Tiempo para tener la mitad de núcleos: 182.40715277893298 s\n"
     ]
    }
   ],
   "source": [
    "print('Tiempo para tener la mitad de núcleos:',t_f1,'s')"
   ]
  },
  {
   "cell_type": "markdown",
   "metadata": {},
   "source": [
    "d)"
   ]
  },
  {
   "cell_type": "code",
   "execution_count": 8,
   "metadata": {},
   "outputs": [],
   "source": [
    "t_l=[]\n",
    "N_t_l=[]\n",
    "for i in range(0,int(t)):\n",
    "    N_t=N_at(N0,λ,i)\n",
    "    t_l.append(i)\n",
    "    N_t_l.append(N_t)"
   ]
  },
  {
   "cell_type": "code",
   "execution_count": 9,
   "metadata": {
    "scrolled": true
   },
   "outputs": [
    {
     "name": "stdout",
     "output_type": "stream",
     "text": [
      "Número de núcleos inicial:  5102000.0\n"
     ]
    },
    {
     "data": {
      "image/png": "[encoded data removed]",
      "text/plain": [
       "<Figure size 432x288 with 1 Axes>"
      ]
     },
     "metadata": {
      "needs_background": "light"
     },
     "output_type": "display_data"
    }
   ],
   "source": [
    "%matplotlib inline\n",
    "import matplotlib.pyplot as plt\n",
    "print('Número de núcleos inicial: ', N0)\n",
    "plt.title('Número de núcleos vs Tiempo')\n",
    "plt.plot(t_l,N_t_l) \n",
    "plt.show()"
   ]
  },
  {
   "cell_type": "markdown",
   "metadata": {},
   "source": [
    "e)"
   ]
  },
  {
   "cell_type": "code",
   "execution_count": 10,
   "metadata": {},
   "outputs": [
    {
     "name": "stderr",
     "output_type": "stream",
     "text": [
      "<ipython-input-3-d911dc8c209a>:2: RuntimeWarning: divide by zero encountered in log\n",
      "  return(np.log(Nf/N0)/(-λ))\n"
     ]
    },
    {
     "data": {
      "text/plain": [
       "inf"
      ]
     },
     "execution_count": 10,
     "metadata": {},
     "output_type": "execute_result"
    }
   ],
   "source": [
    "t_ff(0,N0,λ)"
   ]
  },
  {
   "cell_type": "code",
   "execution_count": 11,
   "metadata": {},
   "outputs": [
    {
     "data": {
      "text/plain": [
       "[1.017290965262835,\n",
       " 1.0134325951409722,\n",
       " 1.0095888590033943,\n",
       " 1.0057597013464814,\n",
       " 1.0019450668771321,\n",
       " 0.9981449005119587,\n",
       " 0.9943591473764926,\n",
       " 0.9905877528043925,\n",
       " 0.9868306623366555,\n",
       " 0.9830878217208301]"
      ]
     },
     "execution_count": 11,
     "metadata": {},
     "output_type": "execute_result"
    }
   ],
   "source": [
    "N_t_l[4060:4070]"
   ]
  },
  {
   "cell_type": "code",
   "execution_count": 12,
   "metadata": {},
   "outputs": [
    {
     "data": {
      "text/plain": [
       "4064.0"
      ]
     },
     "execution_count": 12,
     "metadata": {},
     "output_type": "execute_result"
    }
   ],
   "source": [
    "t_ff(1.0019450668771321,N0,λ)"
   ]
  },
  {
   "cell_type": "markdown",
   "metadata": {},
   "source": [
    "A partir de los 4064 segundos, se desintegraría el último núcleo radiactivo de Polonio 218."
   ]
  },
  {
   "cell_type": "markdown",
   "metadata": {},
   "source": [
    "### EXTRA \n",
    "#### Ploteando Núcleos desintegrados de Polonio 218 vs Tiempo, para un rango temporal de 0 a 5000 segundos."
   ]
  },
  {
   "cell_type": "code",
   "execution_count": 13,
   "metadata": {},
   "outputs": [
    {
     "name": "stdout",
     "output_type": "stream",
     "text": [
      "Número de núcleos inicial:   5102000.0\n"
     ]
    },
    {
     "data": {
      "image/png": "[encoded data removed]",
      "text/plain": [
       "<Figure size 432x288 with 1 Axes>"
      ]
     },
     "metadata": {
      "needs_background": "light"
     },
     "output_type": "display_data"
    }
   ],
   "source": [
    "import numpy as np\n",
    "import matplotlib.pyplot as plt\n",
    "\n",
    "print('Número de núcleos inicial:  ', N0)\n",
    "\n",
    "fig, ax = plt.subplots()\n",
    "ax.plot(t_l[0:5000],np.array(N_t_l)[0:5000], 'b-', label='N(t)')\n",
    "ax.axvline(x=4064,label='N(t)=0 --> t=4064 s', color='g',marker=\",\")\n",
    "ax.axvline(x=182.40715277893298,label='N(t)=N_0 /2 --> t=182.407 s', color='k',marker=\",\")\n",
    "legend = ax.legend(loc='upper center')\n",
    "plt.title('Número de núcleos de Polonio 218 vs Tiempo')\n",
    "plt.xlabel(\"t(s)\")\n",
    "plt.ylabel(\"N(núcleos)\")\n",
    "plt.show()\n",
    " \n",
    "#import matplotlib\n",
    "#matplotlib.axes.Axes.plot\n",
    "#matplotlib.pyplot.plot\n",
    "#matplotlib.axes.Axes.legend\n",
    "#matplotlib.pyplot.legend\n"
   ]
  },
  {
   "cell_type": "markdown",
   "metadata": {},
   "source": [
    "## Actividad 3."
   ]
  },
  {
   "cell_type": "markdown",
   "metadata": {},
   "source": [
    "Tenemos una muestra de tritio (isótopo radiactivo del hidrógeno) de 1 g . El periodo de semidesintegración del tritio (H31) es de 13 años. \n",
    "\n",
    "a) ¿Qué significa esa cifra de 13 años?\n",
    "\n",
    "b) ¿Cómo es posible que en el agua de mar haya tritio en la actualidad?\n",
    "\n",
    "c) Calcular la actividad de esa muestra en la actualidad. \n",
    "\n",
    "d) Calcular la actividad de esa muestra dentro de 100 años."
   ]
  },
  {
   "cell_type": "markdown",
   "metadata": {},
   "source": [
    "#### Solución:"
   ]
  },
  {
   "cell_type": "markdown",
   "metadata": {},
   "source": [
    "a) Indica el tiempo necesario para que se desintegren la mitad de   los núcleos de una muestra inicial (1 g) de tritio."
   ]
  },
  {
   "cell_type": "markdown",
   "metadata": {},
   "source": [
    "b) El tritio atmosférico se forma naturalmente en la atmósfera, esta sustancia llega al mar por precipitación. También, el uso de bombas nucleares fue un factor importante en el aumento de concentración de Tritio, tanto en la atmósfera como en los océanos."
   ]
  },
  {
   "cell_type": "markdown",
   "metadata": {},
   "source": [
    "c) "
   ]
  },
  {
   "cell_type": "code",
   "execution_count": 14,
   "metadata": {},
   "outputs": [
    {
     "name": "stdout",
     "output_type": "stream",
     "text": [
      "La actividad de tritio en la actualidad: 1.4078090509348415e+20 núcleos / año\n"
     ]
    }
   ],
   "source": [
    "T_med = 13 #años\n",
    "N0=1*(1/228)*(6.02e23)\n",
    "λ=np.log(2)/T_med\n",
    "t0=0\n",
    "N_f_1=N_at(N0,λ,t0)\n",
    "λ*N_f_1 #átomos / año\n",
    "print ('La actividad de tritio en la actualidad:',λ*N_f_1, 'núcleos / año' )"
   ]
  },
  {
   "cell_type": "code",
   "execution_count": 15,
   "metadata": {},
   "outputs": [
    {
     "name": "stdout",
     "output_type": "stream",
     "text": [
      "La actividad de tritio dentro de 100 años: 6.80657135559743e+17 núcleos / año\n"
     ]
    }
   ],
   "source": [
    "t1=100\n",
    "N_f_2=N_at(N0,λ,t1)\n",
    "λ*N_f_2 #átomos / año\n",
    "print ('La actividad de tritio dentro de 100 años:',λ*N_f_2, 'núcleos / año' )"
   ]
  },
  {
   "cell_type": "markdown",
   "metadata": {},
   "source": [
    "## Actividad 4."
   ]
  },
  {
   "cell_type": "markdown",
   "metadata": {},
   "source": [
    "Calcular el tiempo necesario para que se desintegre una cuarta parte de una muestra de Ra226 (periodo de semidesintegración, 1620 años)"
   ]
  },
  {
   "cell_type": "markdown",
   "metadata": {},
   "source": [
    "#### Solución:"
   ]
  },
  {
   "cell_type": "code",
   "execution_count": 16,
   "metadata": {},
   "outputs": [
    {
     "name": "stdout",
     "output_type": "stream",
     "text": [
      "Tiempo necesario para que se desintegre una cuarta parte de una muestra de Ra226: 102176640000.0 s\n"
     ]
    }
   ],
   "source": [
    "T_med=1620*24*3600*365 #año*365dia/año *24h/dia*3600s/h\n",
    "λ2=np.log(2)/T_med\n",
    "t_ff(1/4,1,λ2)\n",
    "print ('Tiempo necesario para que se desintegre una cuarta parte de una muestra de Ra226:',t_ff(1/4,1,λ2),'s' )"
   ]
  },
  {
   "cell_type": "code",
   "execution_count": 17,
   "metadata": {},
   "outputs": [
    {
     "name": "stdout",
     "output_type": "stream",
     "text": [
      "Tiempo necesario para que se desintegre una cuarta parte de una muestra de Ra226: 3240.0 años\n"
     ]
    }
   ],
   "source": [
    "t_ff(1/4,1,λ2)/(3600*24*365)\n",
    "print ('Tiempo necesario para que se desintegre una cuarta parte de una muestra de Ra226:',t_ff(1/4,1,λ2)/(3600*24*365),'años' )"
   ]
  },
  {
   "cell_type": "markdown",
   "metadata": {},
   "source": [
    "## Actividad 5."
   ]
  },
  {
   "cell_type": "markdown",
   "metadata": {},
   "source": [
    "Si tenemos una muestra de 2000 núcleos radiactivos cuyo periodo de semidesintegración es T ¿Cuántos permanecerán sin desintegrar al cabo de un tiempo T/12?\n"
   ]
  },
  {
   "cell_type": "markdown",
   "metadata": {},
   "source": [
    "#### Solución:"
   ]
  },
  {
   "cell_type": "code",
   "execution_count": 18,
   "metadata": {},
   "outputs": [],
   "source": [
    "#T=T_med\n",
    "λ3=np.log(2)/T_med\n",
    "N0=2000"
   ]
  },
  {
   "cell_type": "code",
   "execution_count": 19,
   "metadata": {},
   "outputs": [
    {
     "name": "stdout",
     "output_type": "stream",
     "text": [
      "Núcleos sin desintegrar al cabo de un tiempo T/12: 1887.748625363387\n"
     ]
    }
   ],
   "source": [
    "N_at(N0,T_med/12,λ3)\n",
    "print('Núcleos sin desintegrar al cabo de un tiempo T/12:',N_at(N0,T_med/12,λ3))"
   ]
  },
  {
   "cell_type": "markdown",
   "metadata": {},
   "source": [
    "## Actividad 6."
   ]
  },
  {
   "cell_type": "markdown",
   "metadata": {},
   "source": [
    "¿Cual es el valor de las constantes radiactivas de una sustancia si en 6 meses se ha desintegrado el 3% de la muestra inicial?\n"
   ]
  },
  {
   "cell_type": "markdown",
   "metadata": {},
   "source": [
    "#### Solución:"
   ]
  },
  {
   "cell_type": "markdown",
   "metadata": {},
   "source": [
    "Despejando la constante radiactiva $\\lambda$ de la ec. (1):   "
   ]
  },
  {
   "cell_type": "markdown",
   "metadata": {},
   "source": [
    "$$ \\lambda (t) = \\frac{ln \\left(\\frac{N}{N_0}\\right)}{-t} $$"
   ]
  },
  {
   "cell_type": "code",
   "execution_count": 20,
   "metadata": {},
   "outputs": [],
   "source": [
    "def λ_f(N,N0,t):\n",
    "    return(np.log(N/N0)/(-t))"
   ]
  },
  {
   "cell_type": "code",
   "execution_count": 21,
   "metadata": {},
   "outputs": [
    {
     "name": "stdout",
     "output_type": "stream",
     "text": [
      "Valor de la constante radiactiva: 1.9585395759200474e-09 s^-1\n"
     ]
    }
   ],
   "source": [
    "t= 6*30*24*3600#mes 30\n",
    "λ_f(0.97,1,t)\n",
    "print('Valor de la constante radiactiva:',λ_f(0.97,1,t),'s^-1')"
   ]
  },
  {
   "cell_type": "markdown",
   "metadata": {},
   "source": [
    "## Actividad 7."
   ]
  },
  {
   "cell_type": "markdown",
   "metadata": {},
   "source": [
    "Se prepara una muestra radiactiva de 100 g de Ra223 ¿Qué actividad tiene ahora y dentro de 1 año? τ= 11,2 días.\n"
   ]
  },
  {
   "cell_type": "markdown",
   "metadata": {},
   "source": [
    "#### Solución:"
   ]
  },
  {
   "cell_type": "markdown",
   "metadata": {},
   "source": [
    "La ley de desintegración radiactiva: "
   ]
  },
  {
   "cell_type": "markdown",
   "metadata": {},
   "source": [
    "$$ -\\frac{dN}{dt} = \\lambda N $$"
   ]
  },
  {
   "cell_type": "markdown",
   "metadata": {},
   "source": [
    "donde, la constante de desintegración $\\lambda$ es"
   ]
  },
  {
   "cell_type": "markdown",
   "metadata": {},
   "source": [
    "$$\\lambda = \\frac{1}{\\tau}$$"
   ]
  },
  {
   "cell_type": "markdown",
   "metadata": {},
   "source": [
    "$\\tau$: vida media"
   ]
  },
  {
   "cell_type": "code",
   "execution_count": 22,
   "metadata": {},
   "outputs": [
    {
     "name": "stdout",
     "output_type": "stream",
     "text": [
      "Actividad de una muestra radiactiva en la actualidad: 2.752683546378237e+17 Bq\n"
     ]
    }
   ],
   "source": [
    "N0=100*(1/226)*(6.02e23) # g Ra223 * (1 mol-Ra223/ 223g-Ra223)* (6.02e23 atomos-Ra223/ 1 mol-Ra223)\n",
    "τ=11.2 *24*3600 #dias\n",
    "λ=1/τ\n",
    "t1=0\n",
    "t2=365*24*3600\n",
    "\n",
    "N_at(N0,λ,t1)\n",
    "print('Actividad de una muestra radiactiva en la actualidad:',N_at(N0,λ,t1)*λ,'Bq')"
   ]
  },
  {
   "cell_type": "code",
   "execution_count": 23,
   "metadata": {},
   "outputs": [
    {
     "name": "stdout",
     "output_type": "stream",
     "text": [
      "Actividad de una muestra radiactiva dentro de 1 año: 1933.7900979468154 Bq\n"
     ]
    }
   ],
   "source": [
    "N_at(N0,λ,t2)\n",
    "print('Actividad de una muestra radiactiva dentro de 1 año:',N_at(N0,λ,t2)*λ,'Bq')"
   ]
  },
  {
   "cell_type": "markdown",
   "metadata": {},
   "source": [
    "## Actividad 8."
   ]
  },
  {
   "cell_type": "markdown",
   "metadata": {},
   "source": [
    "Se ha recibido un 1500 kg de un mineral que contiene Ra228. Se mide su actividad y resulta ser de 0,3mC. El periodo de semidesintegración del Ra228 es 6,7 años. Calcular los núcleos de radio que tiene la muestra y el porcentaje en peso que suponen en el mineral."
   ]
  },
  {
   "cell_type": "markdown",
   "metadata": {},
   "source": [
    "#### Solución:"
   ]
  },
  {
   "cell_type": "markdown",
   "metadata": {},
   "source": [
    "De la ley de desintegración radiactiva:"
   ]
  },
  {
   "cell_type": "markdown",
   "metadata": {},
   "source": [
    "$$A =-\\frac{dN}{dt} = \\lambda N$$"
   ]
  },
  {
   "cell_type": "code",
   "execution_count": 24,
   "metadata": {},
   "outputs": [
    {
     "name": "stdout",
     "output_type": "stream",
     "text": [
      "Núcleos de Ra228: 3383599307300607.0\n"
     ]
    }
   ],
   "source": [
    "t_med=6.7 *365*24*3600 \n",
    "act= 0.3e-3*3.7e10 #expresando la actividad en Bq\n",
    "                   #1C == 3.7e10 Bq\n",
    "λ= np.log(2)/t_med \n",
    "N= act/λ\n",
    "print('Núcleos de Ra228:',N)"
   ]
  },
  {
   "cell_type": "code",
   "execution_count": 25,
   "metadata": {},
   "outputs": [
    {
     "name": "stdout",
     "output_type": "stream",
     "text": [
      "Porcentaje en peso: 8.543307221091234e-11 %\n"
     ]
    }
   ],
   "source": [
    "N0=1500e3*(1/228)*(6.02e23)\n",
    "print('Porcentaje en peso:',(N/N0)*100,'%')"
   ]
  },
  {
   "cell_type": "markdown",
   "metadata": {},
   "source": [
    "## Actividad 9."
   ]
  },
  {
   "cell_type": "markdown",
   "metadata": {},
   "source": [
    "a) Define la actividad de una sustancia radiactiva y su relación con la constante de desintegración. ¿En que unidades se mide esta constante?\n",
    "\n",
    "b) Si nos dice que el periodo de semidesintegración de una sustancia radiactiva es de 3 años, deduce el valor de la constante de desintegración. \n"
   ]
  },
  {
   "cell_type": "markdown",
   "metadata": {},
   "source": [
    "#### Solución:"
   ]
  },
  {
   "cell_type": "markdown",
   "metadata": {},
   "source": [
    "a) La actividad de una sustancia radiactiva, expresa el número de átomos que se desintegran por unidad de tiempo. Es decir, mide el ritmo de desintegración de la sustancia.\n",
    "\n",
    "La actividad es proporcional al número de átomos existentes, N; esta constante de proporción es $\\lambda$ (constante de desintegración).\n",
    "\n",
    "$$A =-\\frac{dN}{dt} = \\lambda N$$\n",
    "\n",
    "La actividad se mide en unidades de becquerel ($Bq$ = número de núcleos desintegrados / s) y la constante de desintegración, en unidades recíprocas de tiempo $(s)^{-1}$\n",
    "\n"
   ]
  },
  {
   "cell_type": "markdown",
   "metadata": {},
   "source": [
    "b)"
   ]
  },
  {
   "cell_type": "code",
   "execution_count": 26,
   "metadata": {},
   "outputs": [
    {
     "name": "stdout",
     "output_type": "stream",
     "text": [
      "El valor de la constante de desintegración: 7.326517636562926e-09 s^-1\n"
     ]
    }
   ],
   "source": [
    "t_med= 3 *365*24*3600#años\n",
    "λ=np.log(2)/t_med\n",
    "print('El valor de la constante de desintegración:', λ,'s^-1')"
   ]
  },
  {
   "cell_type": "markdown",
   "metadata": {},
   "source": [
    "## Actividad 10."
   ]
  },
  {
   "cell_type": "markdown",
   "metadata": {},
   "source": [
    "Se han encontrado restos arqueológicos de edad desconocida. Entre ellos aparació una muestra de carbono que contenía una octava parte de isótopo 14C de que se encuentra en la materia viva (sólo queda 1/8 del C14 original). Teniendo en cuenta que el periodo de semidesintegración del 14C es de 5730 años.\n",
    "\n",
    "a) Hallar la edad de dichos restos.\n",
    "\n",
    "b) Si en la actualidad tenemos en la muestra 1012 átomos de 14C ¿Cuál será la actividad de la muestra?.\n"
   ]
  },
  {
   "cell_type": "markdown",
   "metadata": {},
   "source": [
    "#### Solución:"
   ]
  },
  {
   "cell_type": "markdown",
   "metadata": {},
   "source": [
    "a)"
   ]
  },
  {
   "cell_type": "code",
   "execution_count": 27,
   "metadata": {},
   "outputs": [],
   "source": [
    "t_med= 5730 # años\n",
    "Nf= 1012 #átomos\n",
    "λ=np.log(2)/t_med #años^-1"
   ]
  },
  {
   "cell_type": "code",
   "execution_count": 28,
   "metadata": {},
   "outputs": [],
   "source": [
    "N0=Nf*8"
   ]
  },
  {
   "cell_type": "code",
   "execution_count": 29,
   "metadata": {},
   "outputs": [
    {
     "name": "stdout",
     "output_type": "stream",
     "text": [
      "Edad de los restos arqueológicos: 17190.0 años\n"
     ]
    }
   ],
   "source": [
    "t_ff(Nf,N0,λ)\n",
    "print('Edad de los restos arqueológicos:', t_ff(Nf,N0,λ), 'años')"
   ]
  },
  {
   "cell_type": "markdown",
   "metadata": {},
   "source": [
    "b)"
   ]
  },
  {
   "cell_type": "code",
   "execution_count": 30,
   "metadata": {},
   "outputs": [
    {
     "name": "stdout",
     "output_type": "stream",
     "text": [
      "Actividad de los restos arqueológicos: 0.1224197114706221 átomos / año\n"
     ]
    }
   ],
   "source": [
    "λ*Nf #Atomos/año\n",
    "print('Actividad de los restos arqueológicos:', λ*Nf, 'átomos / año')"
   ]
  },
  {
   "cell_type": "code",
   "execution_count": 31,
   "metadata": {},
   "outputs": [
    {
     "name": "stdout",
     "output_type": "stream",
     "text": [
      "Actividad de los restos arqueológicos: 3.881903585445906e-09 Bq\n"
     ]
    }
   ],
   "source": [
    "λ*Nf/(365*3600*24) #Bq\n",
    "print('Actividad de los restos arqueológicos:', λ*Nf/(365*3600*24), 'Bq')"
   ]
  },
  {
   "cell_type": "markdown",
   "metadata": {},
   "source": [
    "## Actividad 11."
   ]
  },
  {
   "cell_type": "markdown",
   "metadata": {},
   "source": [
    "Uno de los isótopos del radón, el 222Rn, es radiactivo y su periodo de semidesintegración es de 3,8 días. Inicialmente se dispone de una muestra de 2,7x$10^{18}$ núcleos de 222Rn.\n",
    "\n",
    "a) Calcular la actividad inicial de la muestra en becquerelios (Bq).\n",
    "\n",
    "b) ¿Cuántos núcleos quedan al cabo de 19 días? \n",
    "\n",
    "1 Bq = 1 desintegración por segundo = 1 s-1\n"
   ]
  },
  {
   "cell_type": "markdown",
   "metadata": {},
   "source": [
    "#### Solución:"
   ]
  },
  {
   "cell_type": "markdown",
   "metadata": {},
   "source": [
    "a) Ley de desintegración radiactiva:\n",
    "\n",
    "$$A =-\\frac{dN}{dt} = \\lambda N_{0} e^{-\\lambda t} $$\n",
    "\n",
    "$$A =A_{0} e^{-\\lambda t} $$\n",
    "\n",
    "donde:\n",
    "\n",
    "$$ A_{0}= \\lambda N_{0}$$\n"
   ]
  },
  {
   "cell_type": "code",
   "execution_count": 32,
   "metadata": {},
   "outputs": [
    {
     "name": "stdout",
     "output_type": "stream",
     "text": [
      "Actividad inicial de 222Rn: 5700223524341.657 Bq\n"
     ]
    }
   ],
   "source": [
    "t_med= 3.8 *24*3600 #dias a segundos\n",
    "N0=2.7e18\n",
    "λ=np.log(2)/t_med\n",
    "act_0=N0*λ\n",
    "print('Actividad inicial de 222Rn:',act_0,'Bq')"
   ]
  },
  {
   "cell_type": "markdown",
   "metadata": {},
   "source": [
    "b)"
   ]
  },
  {
   "cell_type": "code",
   "execution_count": 33,
   "metadata": {},
   "outputs": [
    {
     "name": "stdout",
     "output_type": "stream",
     "text": [
      "Núcleos de 222Rn que quedan al cabo de 19 días: 8.437499999999994e+16\n"
     ]
    }
   ],
   "source": [
    "t=19 *24*3600#dias\n",
    "N_at(N0,λ,t) #done! :D\n",
    "print('Núcleos de 222Rn que quedan al cabo de 19 días:',N_at(N0,λ,t))"
   ]
  },
  {
   "cell_type": "markdown",
   "metadata": {},
   "source": [
    "## Actividad 12."
   ]
  },
  {
   "cell_type": "markdown",
   "metadata": {},
   "source": [
    "Define el periodo de semidesintegración de un núcleo radiactivo.\n",
    "El isótopo del americio $^{241}_{95}Am$ (Z=95 A=241) es radiactivo, y se desintegra formandose $^{237}_{93}Np$ (A=237 Z=93) ¿Qué partícula se emite en esa desintegración? Dar también los valores de Z y A de la partícula.\n"
   ]
  },
  {
   "cell_type": "markdown",
   "metadata": {},
   "source": [
    "#### Solución:"
   ]
  },
  {
   "cell_type": "markdown",
   "metadata": {},
   "source": [
    "a) El periodo de semidesintegración de un núcleo radiactivo, indica el tiempo necesario para que se desintegre la mitad del núcleo radiactivo inicial."
   ]
  },
  {
   "cell_type": "markdown",
   "metadata": {},
   "source": [
    "b) Para identificar la partícula que se emite, calculamos los valores de Z y A de la partícula:\n",
    "\n",
    "  "
   ]
  },
  {
   "cell_type": "markdown",
   "metadata": {},
   "source": [
    "  $$Z= Z_{Am}-Z_{Np}$$\n",
    "      $$= 241-237$$  \n",
    "      $$= 4 $$"
   ]
  },
  {
   "cell_type": "markdown",
   "metadata": {},
   "source": [
    "  $$A= A_{Am}-A_{Np}$$\n",
    "    $$=95-93$$\n",
    "    $$=2 $$"
   ]
  },
  {
   "cell_type": "markdown",
   "metadata": {},
   "source": [
    "Entonces la partícula $^{2}_{4}$X es una partícula alfa. "
   ]
  },
  {
   "cell_type": "markdown",
   "metadata": {},
   "source": [
    "## Actividad 13."
   ]
  },
  {
   "cell_type": "markdown",
   "metadata": {},
   "source": [
    "a) Definir los conceptos de periodo de semidesintegración y constante de desintegración de un núcleo radiactivo. ¿En qué unidades se miden?\n",
    "\n",
    "b) ¿Cuántos periodos han de transcurrir para que la actividad de una sustancia radioactiva se reduzca en 1/8? Justificarlo.\n"
   ]
  },
  {
   "cell_type": "markdown",
   "metadata": {},
   "source": [
    "#### Solución:"
   ]
  },
  {
   "cell_type": "markdown",
   "metadata": {},
   "source": [
    "a) El periodo de semidesintegración, indica el tiempo necesario para que se desintegren la mitad de los núcleos de una muestra inicial de un radioisótopo.\n",
    "\n",
    "La constante de desintegración de un núcleo radiactivo, indica cuál es la relación entre los átomos finales con respecto a los átomos iniciales que se poseía en un determinado tiempo. Es decir, da la probabilidad de desintegración de un átomo por unidad de tiempo.\n",
    "\n",
    "El periodo de semidesintegración se mide en unidades de tiempo (ejemplo: segundos) y la constante de desintegración, en unidades recíprocas de tiempo (ejemplo: segundos^-1) \n"
   ]
  },
  {
   "cell_type": "markdown",
   "metadata": {},
   "source": [
    "b)"
   ]
  },
  {
   "cell_type": "markdown",
   "metadata": {},
   "source": [
    "Constante de desintegración: \n",
    "$$ \\lambda = \\frac{ln(2)}{t_{1/2}}$$"
   ]
  },
  {
   "cell_type": "markdown",
   "metadata": {},
   "source": [
    "\n",
    "Despejando el tiempo t: \n",
    "\n",
    "$$ N= N_0 .exp\\left(-\\frac{ln (2)}{t_{1/2} }t\\right) $$\n",
    "\n",
    "$$ t= - \\frac{ln(\\frac{N}{N0})}{ln(2)}t_{1/2} $$\n"
   ]
  },
  {
   "cell_type": "markdown",
   "metadata": {},
   "source": [
    "Expresando el tiempo t como un número de veces del periodo:"
   ]
  },
  {
   "cell_type": "markdown",
   "metadata": {},
   "source": [
    "$$t=x. t_{1/2}$$"
   ]
  },
  {
   "cell_type": "markdown",
   "metadata": {},
   "source": [
    "Reemplazando el valor de t en la ecuacion penúltima y despejando x:"
   ]
  },
  {
   "cell_type": "markdown",
   "metadata": {},
   "source": [
    "$$ x = \\left(- \\frac{ln(\\frac{N}{N0})}{ln(2)}\\right) $$"
   ]
  },
  {
   "cell_type": "code",
   "execution_count": 34,
   "metadata": {},
   "outputs": [
    {
     "name": "stdout",
     "output_type": "stream",
     "text": [
      "Número de veces del periodo ha de transcurrir para que la actividad de una sustancia radioactiva se reduzca en 1/8: 3.0\n"
     ]
    }
   ],
   "source": [
    "N=1/8\n",
    "N0=1\n",
    "x=(-(np.log(N/N0))/np.log(2)) #*2 para obtener periodo\n",
    "print('Número de veces del periodo ha de transcurrir para que la actividad de una sustancia radioactiva se reduzca en 1/8:',x)"
   ]
  },
  {
   "cell_type": "markdown",
   "metadata": {},
   "source": [
    "## Actividad 14."
   ]
  },
  {
   "cell_type": "markdown",
   "metadata": {},
   "source": [
    "Si la vida media de una muestra radiactiva es de 2300 años. ¿Qué porcentaje de núcleos iniciales quedarán en una muestra al cabo de 1000 años?"
   ]
  },
  {
   "cell_type": "markdown",
   "metadata": {},
   "source": [
    "#### Solución:"
   ]
  },
  {
   "cell_type": "markdown",
   "metadata": {},
   "source": [
    "Constante de semidesintegración:\n",
    "\n",
    "$$ \\lambda =\\frac{1}{\\tau}$$"
   ]
  },
  {
   "cell_type": "code",
   "execution_count": 35,
   "metadata": {},
   "outputs": [
    {
     "name": "stdout",
     "output_type": "stream",
     "text": [
      "Núcleos que quedarán en una muestra al cabo de 1000 años 0.647405392083911 N0\n"
     ]
    }
   ],
   "source": [
    "t=1000 #años\n",
    "λ=1/2300 #años^-1\n",
    "N_at(1,λ,t) #N0=1 para calcular la exponencial\n",
    "print('Núcleos que quedarán en una muestra al cabo de 1000 años',N_at(1,λ,t),'N0')"
   ]
  },
  {
   "cell_type": "code",
   "execution_count": 36,
   "metadata": {},
   "outputs": [
    {
     "name": "stdout",
     "output_type": "stream",
     "text": [
      "Porcentaje de núcleos iniciales que quedarán en una muestra al cabo de 1000 años: 64.7405392083911 % N0\n"
     ]
    }
   ],
   "source": [
    "print('Porcentaje de núcleos iniciales que quedarán en una muestra al cabo de 1000 años:',N_at(1,λ,t)*100,'% N0')"
   ]
  },
  {
   "cell_type": "markdown",
   "metadata": {},
   "source": [
    "Contacto:\n",
    "1. jharol.onofre@unmsm.edu.pe\n",
    "2. ricardo.quispe5@unmsm.edu.pe"
   ]
  }
 ],
 "metadata": {
  "kernelspec": {
   "display_name": "Python 3",
   "language": "python",
   "name": "python3"
  },
  "language_info": {
   "codemirror_mode": {
    "name": "ipython",
    "version": 3
   },
   "file_extension": ".py",
   "mimetype": "text/x-python",
   "name": "python",
   "nbconvert_exporter": "python",
   "pygments_lexer": "ipython3",
   "version": "3.8.3"
  }
 },
 "nbformat": 4,
 "nbformat_minor": 4
}
